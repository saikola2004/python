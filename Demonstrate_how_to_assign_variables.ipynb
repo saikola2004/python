{
  "nbformat": 4,
  "nbformat_minor": 0,
  "metadata": {
    "colab": {
      "provenance": [],
      "authorship_tag": "ABX9TyObFBLtfY6MV8B6PFpRmgLw",
      "include_colab_link": true
    },
    "kernelspec": {
      "name": "python3",
      "display_name": "Python 3"
    },
    "language_info": {
      "name": "python"
    }
  },
  "cells": [
    {
      "cell_type": "markdown",
      "metadata": {
        "id": "view-in-github",
        "colab_type": "text"
      },
      "source": [
        "<a href=\"https://colab.research.google.com/github/saikola2004/python/blob/main/Demonstrate_how_to_assign_variables.ipynb\" target=\"_parent\"><img src=\"https://colab.research.google.com/assets/colab-badge.svg\" alt=\"Open In Colab\"/></a>"
      ]
    },
    {
      "cell_type": "markdown",
      "source": [],
      "metadata": {
        "id": "-J41W2n9Y_-o"
      }
    },
    {
      "cell_type": "markdown",
      "source": [
        "# Demonstrate how to assign variables and use them\n",
        "\n",
        "**objectives**:\n",
        "\n",
        "the objectives of this pratical on python variables\n",
        "\n",
        "  .Define and use variables to store data\n"
      ],
      "metadata": {
        "id": "HYf1gou4ZCm4"
      }
    },
    {
      "cell_type": "markdown",
      "source": [],
      "metadata": {
        "id": "5ZirEjJ3bA_L"
      }
    },
    {
      "cell_type": "markdown",
      "source": [
        "\n",
        "# Python Variables\n",
        "\n",
        "  Variables are containers for storing data values.\n",
        "\n",
        "# Creating Variables\n",
        "   Python has no command for declaring a variable.\n",
        "\n",
        "A variable is created the moment you first assign a value to it.\n",
        "\n",
        "Example\n",
        "\n",
        "\n",
        "\n"
      ],
      "metadata": {
        "id": "7l9KukCMbArn"
      }
    },
    {
      "cell_type": "code",
      "source": [
        "x = 5\n",
        "y = \"sai\"\n",
        "print(x)\n",
        "print(y)"
      ],
      "metadata": {
        "colab": {
          "base_uri": "https://localhost:8080/"
        },
        "id": "D5L0RFOMbADE",
        "outputId": "146f465d-7d37-4545-9956-040a21bb79cb"
      },
      "execution_count": 1,
      "outputs": [
        {
          "output_type": "stream",
          "name": "stdout",
          "text": [
            "5\n",
            "sai\n"
          ]
        }
      ]
    },
    {
      "cell_type": "markdown",
      "source": [
        "Variables do not need to be declared with any particular type, and can even change type after they have been set."
      ],
      "metadata": {
        "id": "WRDRlu-EbqOR"
      }
    },
    {
      "cell_type": "code",
      "source": [
        "x = 4\n",
        "x = \"sai\"\n",
        "print(x)"
      ],
      "metadata": {
        "colab": {
          "base_uri": "https://localhost:8080/"
        },
        "id": "GDW_ZsPdZXsX",
        "outputId": "23aa4148-1a98-41d2-89ae-079a658b9aa4"
      },
      "execution_count": 2,
      "outputs": [
        {
          "output_type": "stream",
          "name": "stdout",
          "text": [
            "sai\n"
          ]
        }
      ]
    },
    {
      "cell_type": "markdown",
      "source": [
        "\n",
        "# Casting\n",
        "If you want to specify the data type of a variable, this can be done with casting."
      ],
      "metadata": {
        "id": "IXgDTroLb1wg"
      }
    },
    {
      "cell_type": "code",
      "source": [
        "x = str(3)    # x will be '3'\n",
        "y = int(3)    # y will be 3\n",
        "z = float(3)  # z will be 3.0\n",
        "print(x)\n",
        "print(y)\n",
        "print(z)"
      ],
      "metadata": {
        "colab": {
          "base_uri": "https://localhost:8080/"
        },
        "id": "GrsgX8z6b6m4",
        "outputId": "fa3402d8-5eb5-403f-ec46-14a3ed049527"
      },
      "execution_count": 4,
      "outputs": [
        {
          "output_type": "stream",
          "name": "stdout",
          "text": [
            "3\n",
            "3\n",
            "3.0\n"
          ]
        }
      ]
    },
    {
      "cell_type": "markdown",
      "source": [
        "# Get the type\n",
        "\n",
        "Data type of a variable with the type() function\n"
      ],
      "metadata": {
        "id": "F0TExeeycZkK"
      }
    },
    {
      "cell_type": "code",
      "source": [
        " x = 5\n",
        " y = \"sai kola\"\n",
        " print(type(x))\n",
        " print(type(y))"
      ],
      "metadata": {
        "colab": {
          "base_uri": "https://localhost:8080/"
        },
        "id": "4WL4M0WBcjwv",
        "outputId": "041f8238-d26d-4649-d678-44de1afba396"
      },
      "execution_count": 5,
      "outputs": [
        {
          "output_type": "stream",
          "name": "stdout",
          "text": [
            "<class 'int'>\n",
            "<class 'str'>\n"
          ]
        }
      ]
    },
    {
      "cell_type": "markdown",
      "source": [
        "\n",
        "**Variable Names**\n",
        "A variable can have a short name (like x and y) or a more descriptive name (age, carname, total_volume). Rules for Python variables:\n",
        "\n",
        "*   A variable name must start with a letter or the underscore character\n",
        "*   A variable name cannot start with a number\n",
        "*   A variable name can only contain alpha-numeric characters and underscores (A-z, 0-9, and _ )\n",
        "*   Variable names are case-sensitive (age, Age and AGE are three different variables)\n",
        "*   A variable name cannot be any of the Python keywords."
      ],
      "metadata": {
        "id": "G3aMtA8edsnx"
      }
    },
    {
      "cell_type": "markdown",
      "source": [
        "**Python -Output variables**\n",
        "\n",
        "Output Variables*\n",
        "\n",
        "The  Python print() function is Often Used to output varables\n"
      ],
      "metadata": {
        "id": "Zt0GdiJceF84"
      }
    },
    {
      "cell_type": "code",
      "source": [
        "x = \"Python is awesome\"\n",
        "print(x)"
      ],
      "metadata": {
        "colab": {
          "base_uri": "https://localhost:8080/"
        },
        "id": "_t5dXs9wdPzN",
        "outputId": "9ece86c4-bb17-4040-f85e-ef6f980963dc"
      },
      "execution_count": 6,
      "outputs": [
        {
          "output_type": "stream",
          "name": "stdout",
          "text": [
            "Python is awesome\n"
          ]
        }
      ]
    },
    {
      "cell_type": "markdown",
      "source": [
        "For numbers, the + character works as a mathematical operator"
      ],
      "metadata": {
        "id": "oKhVFKAketUZ"
      }
    },
    {
      "cell_type": "code",
      "source": [
        "x = 5\n",
        "y = 10\n",
        "print(x+y)"
      ],
      "metadata": {
        "colab": {
          "base_uri": "https://localhost:8080/"
        },
        "id": "76BX3Rjrdu7x",
        "outputId": "cbaaea32-509e-4aae-d7e9-89350d523fac"
      },
      "execution_count": 7,
      "outputs": [
        {
          "output_type": "stream",
          "name": "stdout",
          "text": [
            "15\n"
          ]
        }
      ]
    },
    {
      "cell_type": "markdown",
      "source": [
        "\n",
        "# Global Variables\n",
        "Variables that are created outside of a function (as in all of the examples in the previous pages) are known as global variables.\n",
        "\n",
        "\n",
        "\n",
        "Global variables can be used by everyone, both inside of functions and outside."
      ],
      "metadata": {
        "id": "wj7L6J4re1so"
      }
    },
    {
      "cell_type": "code",
      "source": [
        "x = \"awesome\"\n",
        "def myfunc():\n",
        "  print(\"Python is \"+x)\n",
        "myfunc()"
      ],
      "metadata": {
        "colab": {
          "base_uri": "https://localhost:8080/"
        },
        "id": "8_8E4pDae7ci",
        "outputId": "9485253b-8bf1-4ca7-ca9b-31d556ec835c"
      },
      "execution_count": 8,
      "outputs": [
        {
          "output_type": "stream",
          "name": "stdout",
          "text": [
            "Python is awesome\n"
          ]
        }
      ]
    },
    {
      "cell_type": "markdown",
      "source": [
        "To create a global variable inside a function, you can use the global keyword."
      ],
      "metadata": {
        "id": "cRWt_i-qfKi-"
      }
    },
    {
      "cell_type": "code",
      "source": [
        "def myfunc():\n",
        "  global x\n",
        "  x = \"fantastic\"\n",
        "\n",
        "myfunc()\n",
        "\n",
        "print(\"Python is \" + x)"
      ],
      "metadata": {
        "colab": {
          "base_uri": "https://localhost:8080/"
        },
        "id": "Z5I1POcEfLaM",
        "outputId": "df450c56-e4af-4563-debe-439c255d8774"
      },
      "execution_count": 9,
      "outputs": [
        {
          "output_type": "stream",
          "name": "stdout",
          "text": [
            "Python is fantastic\n"
          ]
        }
      ]
    }
  ]
}